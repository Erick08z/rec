{
 "cells": [
  {
   "cell_type": "code",
   "execution_count": 1,
   "id": "614f3a71",
   "metadata": {},
   "outputs": [
    {
     "name": "stdout",
     "output_type": "stream",
     "text": [
      "0\n"
     ]
    }
   ],
   "source": [
    "a = 0\n",
    "print(a)"
   ]
  },
  {
   "cell_type": "code",
   "execution_count": null,
   "id": "dd544728",
   "metadata": {},
   "outputs": [],
   "source": [
    "import numpy as np\n",
    "\n",
    "def conjugate_gradient(A, b, x0=None, tol=1e-8, max_iter=None):\n",
    "    n = b.shape[0]\n",
    "    if x0 is None:\n",
    "        x = np.zeros(n)\n",
    "    else:\n",
    "        x = x0\n",
    "    r = b - A @ x\n",
    "    p = r.copy()\n",
    "    rs_old = np.dot(r, r)\n",
    "    if max_iter is None:\n",
    "        max_iter = n\n",
    "    for i in range(max_iter):\n",
    "        Ap = A @ p\n",
    "        alpha = rs_old / np.dot(p, Ap)\n",
    "        x += alpha * p\n",
    "        r -= alpha * Ap\n",
    "        rs_new = np.dot(r, r)\n",
    "        if np.sqrt(rs_new) < tol:\n",
    "            break\n",
    "        p = r + (rs_new / rs_old) * p\n",
    "        rs_old = rs_new\n",
    "    return x"
   ]
  }
 ],
 "metadata": {
  "kernelspec": {
   "display_name": "test",
   "language": "python",
   "name": "python3"
  },
  "language_info": {
   "codemirror_mode": {
    "name": "ipython",
    "version": 3
   },
   "file_extension": ".py",
   "mimetype": "text/x-python",
   "name": "python",
   "nbconvert_exporter": "python",
   "pygments_lexer": "ipython3",
   "version": "3.13.2"
  }
 },
 "nbformat": 4,
 "nbformat_minor": 5
}
